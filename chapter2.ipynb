{
 "cells": [
  {
   "cell_type": "markdown",
   "metadata": {},
   "source": [
    "Control Flow means allowing you to control how the program flows. Sometimes you might not want every line to execute one after the other. This includes things like loops and ifs."
   ]
  },
  {
   "cell_type": "code",
   "execution_count": 1,
   "metadata": {
    "collapsed": true
   },
   "outputs": [],
   "source": [
    "#First lets establish a few things we'll need for this exercise\n",
    "grades = {}\n",
    "grades['Matt'] = 99\n",
    "grades['John'] = 84\n",
    "grades['Steve'] = 73\n",
    "grades['Artie'] = 55\n",
    "\n",
    "days = ['Monday','Tuesday','Wednesday','Thursday','Friday']\n",
    "temperatures = [73, 72, 72, 55, 86]\n",
    "#we now have 2 data structures "
   ]
  },
  {
   "cell_type": "markdown",
   "metadata": {},
   "source": [
    "First, lets discuss how we can loop over these data structures.    \n",
    "A loop allows us to consider each entry in this structure one at a time"
   ]
  },
  {
   "cell_type": "code",
   "execution_count": 2,
   "metadata": {
    "collapsed": false
   },
   "outputs": [
    {
     "name": "stdout",
     "output_type": "stream",
     "text": [
      "5\n",
      "[0, 1, 2, 3, 4]\n",
      "0\n",
      "1\n",
      "2\n",
      "3\n",
      "4\n"
     ]
    }
   ],
   "source": [
    "#one of the main types of loops is the for loop.\n",
    "#python makes this really easy for us to use\n",
    "#if we wanted to print out each temperature, we would say\n",
    "#range and len are built in functions to the language\n",
    "#len(temperatures) will return the length of the item inside the parentheses.\n",
    "print len(temperatures)\n",
    "#range returns give us a list of every number up to len(temperatures)\n",
    "print range(len(temperatures))\n",
    "\n",
    "for i in range(len(temperatures)): \n",
    "    print i\n",
    "    \n",
    "#this will consider each entry in this. not very useful on its own"
   ]
  },
  {
   "cell_type": "code",
   "execution_count": 3,
   "metadata": {
    "collapsed": false
   },
   "outputs": [
    {
     "name": "stdout",
     "output_type": "stream",
     "text": [
      "73\n",
      "72\n",
      "72\n",
      "55\n",
      "86\n"
     ]
    }
   ],
   "source": [
    "#lets instead use it to access our list\n",
    "for i in range(len(temperatures)): \n",
    "    print temperatures[i] #remember, this accesses the ith entry in temperature"
   ]
  },
  {
   "cell_type": "code",
   "execution_count": 4,
   "metadata": {
    "collapsed": false
   },
   "outputs": [
    {
     "name": "stdout",
     "output_type": "stream",
     "text": [
      "On Monday it was 73 degrees out\n",
      "On Tuesday it was 72 degrees out\n",
      "On Wednesday it was 72 degrees out\n",
      "On Thursday it was 55 degrees out\n",
      "On Friday it was 86 degrees out\n"
     ]
    }
   ],
   "source": [
    "#We can even use this to make it pretty. \n",
    "for i in range(len(temperatures)): \n",
    "    print \"On \"+days[i]+\" it was \"+str(temperatures[i])+\" degrees out\"\n",
    "#note that we did whats called \"string concatenation\", pasting strings end to end\n",
    "#Also note that we needed to convert temperatures to a string before printing it.\n",
    "#later on when we learn more about output, we'll see how we can avoid this. "
   ]
  },
  {
   "cell_type": "markdown",
   "metadata": {},
   "source": [
    "Now that we've master the for loop, lets talk about if then statements.    \n",
    "if then statements allow us to do something, depending on a condition."
   ]
  },
  {
   "cell_type": "code",
   "execution_count": 5,
   "metadata": {
    "collapsed": false
   },
   "outputs": [
    {
     "name": "stdout",
     "output_type": "stream",
     "text": [
      "Steve\n",
      "Matt\n",
      "John\n",
      "Artie\n"
     ]
    }
   ],
   "source": [
    "#you can also iterate over dictionaries\n",
    "#this will give each entry in the list of keys\n",
    "for name in grades:\n",
    "    print name\n"
   ]
  },
  {
   "cell_type": "code",
   "execution_count": 6,
   "metadata": {
    "collapsed": false
   },
   "outputs": [
    {
     "name": "stdout",
     "output_type": "stream",
     "text": [
      "Steve 73\n",
      "Matt 99\n",
      "John 84\n",
      "Artie 55\n"
     ]
    }
   ],
   "source": [
    "#recall how to access values in a dictionary\n",
    "for name in grades:\n",
    "    print name, grades[name]\n",
    "#Artie needs to hit the books\n",
    "#also, the order of these keys will be random, if you need them sorted, we'll discuss that later"
   ]
  },
  {
   "cell_type": "code",
   "execution_count": 7,
   "metadata": {
    "collapsed": false
   },
   "outputs": [
    {
     "name": "stdout",
     "output_type": "stream",
     "text": [
      "Steve gets a C\n",
      "Matt gets an A! Great job Matt\n",
      "John gets a B\n",
      "Artie is failing :(\n"
     ]
    }
   ],
   "source": [
    "#Now lets see how we can use conditions to give more meaningful output\n",
    "for name in grades:\n",
    "    grade = grades[name] #store the students grade\n",
    "    if grade >= 90: #this is an if statement, which tests if a condition is true\n",
    "        #in this case, the condition asks if the students grade is greater than or equal to 90\n",
    "        print name+\" gets an A! Great job \"+name\n",
    "    elif 90 > grade >= 80: #elif will test this condition if the first is not true\n",
    "        print name+\" gets a B\"\n",
    "    elif 80 > grade >= 70: #elif will test this condition if the first is not true\n",
    "        print name+\" gets a C\"\n",
    "    elif 70 > grade >= 60: #elif will test this condition if the first is not true\n",
    "        print name+\" gets a D\"\n",
    "    elif 60 > grade: #elif will test this condition if the first is not true\n",
    "        print name+\" is failing :(\"\n"
   ]
  },
  {
   "cell_type": "markdown",
   "metadata": {},
   "source": [
    "These two main control flow mechanisms will allow you to accomplish a lot of what you need to get started using python"
   ]
  },
  {
   "cell_type": "code",
   "execution_count": null,
   "metadata": {
    "collapsed": true
   },
   "outputs": [],
   "source": []
  }
 ],
 "metadata": {
  "kernelspec": {
   "display_name": "Python 2",
   "language": "python",
   "name": "python2"
  },
  "language_info": {
   "codemirror_mode": {
    "name": "ipython",
    "version": 2
   },
   "file_extension": ".py",
   "mimetype": "text/x-python",
   "name": "python",
   "nbconvert_exporter": "python",
   "pygments_lexer": "ipython2",
   "version": "2.7.11"
  }
 },
 "nbformat": 4,
 "nbformat_minor": 0
}
