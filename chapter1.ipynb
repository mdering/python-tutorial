{
 "cells": [
  {
   "cell_type": "markdown",
   "metadata": {},
   "source": [
    "Welcome to the tutorial. Lets learn python!     \n",
    "Python is pretty flexible, which allows us to dive right in. If you've coded in other languages before, this might seem like a breath of fresh air.    \n",
    "Lets start with declaring some variables"
   ]
  },
  {
   "cell_type": "code",
   "execution_count": 1,
   "metadata": {
    "collapsed": false
   },
   "outputs": [
    {
     "name": "stdout",
     "output_type": "stream",
     "text": [
      "5 4 hello\n"
     ]
    }
   ],
   "source": [
    "i = 5\n",
    "j = 4\n",
    "k = \"hello\"\n",
    "print i,j,k"
   ]
  },
  {
   "cell_type": "markdown",
   "metadata": {},
   "source": [
    "See how you don't have to specify variable types? Pretty nice. You can even change variable types without getting yelled at. Note how i used to be a number, and now it isn't. No problem."
   ]
  },
  {
   "cell_type": "code",
   "execution_count": 2,
   "metadata": {
    "collapsed": false
   },
   "outputs": [
    {
     "name": "stdout",
     "output_type": "stream",
     "text": [
      "5\n",
      "foo\n"
     ]
    }
   ],
   "source": [
    "print i\n",
    "i = \"foo\"\n",
    "print i"
   ]
  },
  {
   "cell_type": "markdown",
   "metadata": {},
   "source": [
    "Python also has some useful built in data structures.     \n",
    "The main one that you see a lot is the list.     \n",
    "A list is basically a list of whatever you want. You can declare it like so:"
   ]
  },
  {
   "cell_type": "code",
   "execution_count": 3,
   "metadata": {
    "collapsed": false
   },
   "outputs": [
    {
     "name": "stdout",
     "output_type": "stream",
     "text": [
      "[5, 4, 3]\n"
     ]
    }
   ],
   "source": [
    "l = [5,4,3]\n",
    "print l"
   ]
  },
  {
   "cell_type": "markdown",
   "metadata": {},
   "source": [
    "You can also declare an empty list and add things to it later, like so:"
   ]
  },
  {
   "cell_type": "code",
   "execution_count": 4,
   "metadata": {
    "collapsed": false
   },
   "outputs": [
    {
     "name": "stdout",
     "output_type": "stream",
     "text": [
      "[5, 4, 3]\n"
     ]
    }
   ],
   "source": [
    "#add comments using a # symbol. anything after that will be ignored\n",
    "l = [] #this is an empty list\n",
    "l.append(5)\n",
    "l.append(4)\n",
    "l.append(3)\n",
    "print l #should print [5,4,3]"
   ]
  },
  {
   "cell_type": "code",
   "execution_count": 5,
   "metadata": {
    "collapsed": false
   },
   "outputs": [
    {
     "name": "stdout",
     "output_type": "stream",
     "text": [
      "4\n"
     ]
    }
   ],
   "source": [
    "#You can also address a list by index\n",
    "print l[1] #python is 0 indexed, so this will show the 2nd element, not the first"
   ]
  },
  {
   "cell_type": "markdown",
   "metadata": {},
   "source": [
    "By the way, we're working in whats called a 'Notebook', this is a totally interactive python shell, so feel free to mess around with whatever you want, you can run any code you want in here, totally interactively    \n",
    "I highly recommend this for beginners"
   ]
  },
  {
   "cell_type": "markdown",
   "metadata": {},
   "source": [
    "Another of pythons primitive data structures is a dictionary.     \n",
    "A dictionary is like a list, but instead of being indexed by number, you can index on whatever you want    \n",
    "watch as we create a dictionary called \"grades\""
   ]
  },
  {
   "cell_type": "code",
   "execution_count": 6,
   "metadata": {
    "collapsed": false
   },
   "outputs": [
    {
     "name": "stdout",
     "output_type": "stream",
     "text": [
      "99\n",
      "['Steve', 'Matt']\n"
     ]
    }
   ],
   "source": [
    "grades = {} #Creates an empty dictionary, using curly braces {}\n",
    "grades['Matt'] = 99 #I'm doing well in the class\n",
    "grades['Steve'] = 73 #Steve is struggling, please see me after class, Steve.\n",
    "\n",
    "#now if you want to access a grade, you can do that by using the 'key'\n",
    "#a dictionary has 2 elements, a key, and a value. Each key must be unique and associated with a value.\n",
    "print grades['Matt']\n",
    "#if you arent sure what keys are already in a dictionary you can see them by typing\n",
    "print grades.keys()"
   ]
  },
  {
   "cell_type": "markdown",
   "metadata": {},
   "source": [
    "I would say these two data structures will allow you to do nearly everything you could really want to as you get started. Next chapter we'll review some control flow basics."
   ]
  }
 ],
 "metadata": {
  "kernelspec": {
   "display_name": "Python 2",
   "language": "python",
   "name": "python2"
  },
  "language_info": {
   "codemirror_mode": {
    "name": "ipython",
    "version": 2
   },
   "file_extension": ".py",
   "mimetype": "text/x-python",
   "name": "python",
   "nbconvert_exporter": "python",
   "pygments_lexer": "ipython2",
   "version": "2.7.11"
  }
 },
 "nbformat": 4,
 "nbformat_minor": 0
}
